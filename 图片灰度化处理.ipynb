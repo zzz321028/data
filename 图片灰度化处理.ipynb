{
 "cells": [
  {
   "cell_type": "code",
   "execution_count": 41,
   "metadata": {},
   "outputs": [],
   "source": [
    "from numpy.core.multiarray import ndarray\n",
    "import numpy as np\n",
    "from PIL import Image"
   ]
  },
  {
   "cell_type": "code",
   "execution_count": 42,
   "metadata": {},
   "outputs": [],
   "source": [
    "def image_gray(im2: ndarray) -> ndarray:\n",
    "    # todo: 使用平均法对图像进行灰度化处理\n",
    "    im2 =  read_image('image.jpg')\n",
    "    im2 = np.array(im2, dtype=np.float32)\n",
    "    im2 = np.sum(im2, axis=2)\n",
    "    im2[...,:] = im2[...,:]/3.0\n",
    "    show_image_array(im2)\n",
    "    return im2"
   ]
  },
  {
   "cell_type": "code",
   "execution_count": 43,
   "metadata": {},
   "outputs": [],
   "source": [
    "def read_image(image_path: str) -> ndarray:\n",
    "    image = Image.open('image.jpg')\n",
    "    return np.array(image)\n"
   ]
  },
  {
   "cell_type": "code",
   "execution_count": 46,
   "metadata": {},
   "outputs": [],
   "source": [
    "def show_image_array(im2:ndarray):\n",
    "    image = Image.fromarray(im2)\n",
    "    image.convert('RGB').save('gray.jpg')"
   ]
  },
  {
   "cell_type": "code",
   "execution_count": 47,
   "metadata": {},
   "outputs": [],
   "source": [
    "if __name__ == \"__main__\":\n",
    "    image_array = read_image('image.jpg')\n",
    "    array = image_gray(image_array)\n",
    "    show_image_array(array)"
   ]
  },
  {
   "cell_type": "code",
   "execution_count": null,
   "metadata": {},
   "outputs": [],
   "source": []
  }
 ],
 "metadata": {
  "kernelspec": {
   "display_name": "Python 3",
   "language": "python",
   "name": "python3"
  },
  "language_info": {
   "codemirror_mode": {
    "name": "ipython",
    "version": 3
   },
   "file_extension": ".py",
   "mimetype": "text/x-python",
   "name": "python",
   "nbconvert_exporter": "python",
   "pygments_lexer": "ipython3",
   "version": "3.8.3"
  }
 },
 "nbformat": 4,
 "nbformat_minor": 4
}
